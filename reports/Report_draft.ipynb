{
 "cells": [
  {
   "cell_type": "code",
   "execution_count": 1,
   "id": "3f0f9c35",
   "metadata": {},
   "outputs": [
    {
     "data": {
      "text/html": [
       "\n",
       "        <iframe\n",
       "            width=\"100%\"\n",
       "            height=\"500\"\n",
       "            src=\"../figures/internal/general_map_interactive.html\"\n",
       "            frameborder=\"0\"\n",
       "            allowfullscreen\n",
       "        ></iframe>\n",
       "        "
      ],
      "text/plain": [
       "<IPython.lib.display.IFrame at 0x105a3da90>"
      ]
     },
     "execution_count": 1,
     "metadata": {},
     "output_type": "execute_result"
    }
   ],
   "source": [
    "from IPython.display import IFrame\n",
    "IFrame('../figures/internal/general_map_interactive.html', width='100%', height=500)"
   ]
  },
  {
   "cell_type": "markdown",
   "id": "72a71da0",
   "metadata": {},
   "source": [
    "<img src=\"../figures/internal/legend_colors.png?raw=true\" alt=\"map\" width=\"100%\" height=\"200\">"
   ]
  },
  {
   "cell_type": "markdown",
   "id": "1e6da890",
   "metadata": {},
   "source": [
    "<table align=\"left\">\n",
    "      <tr>\n",
    "        <th>\n",
    "           <a href=\"../figures/internal/pictoral_vignette_group_0.png?raw=true\" target=\"_blank\">\n",
    "           <img src=\"../figures/internal/pictoral_vignette_group_0.png?raw=true\" align=\"center\" alt=\"1\" width=\"600\">\n",
    "           </a>\n",
    "        </th>\n",
    "        <th>\n",
    "           <a href=\"../figures/internal/pictoral_vignette_group_1.png?raw=true\" target=\"_blank\">\n",
    "           <img src=\"../figures/internal/pictoral_vignette_group_1.png?raw=true\" align=\"center\" alt=\"2\" width=\"600\" loading=\"lazy\">\n",
    "           </a>\n",
    "        </th>\n",
    "      </tr>\n",
    "      <tr>\n",
    "        <th>\n",
    "           <a href=\"../figures/internal/pictoral_vignette_group_2.png?raw=true\" target=\"_blank\">\n",
    "           <img src=\"../figures/internal/pictoral_vignette_group_2.png?raw=true\" align=\"center\" alt=\"3\" width=\"600\" loading=\"lazy\">\n",
    "           </a>\n",
    "        </th>\n",
    "        <th>\n",
    "           <a href=\"../figures/internal/pictoral_vignette_group_3.png?raw=true\" target=\"_blank\">\n",
    "           <img src=\"../figures/internal/pictoral_vignette_group_3.png?raw=true\" align=\"center\" alt=\"4\" width=\"600\" loading=\"lazy\">\n",
    "           </a>\n",
    "        </th>\n",
    "      </tr>\n",
    "</table>"
   ]
  }
 ],
 "metadata": {
  "kernelspec": {
   "display_name": "Python 3 (ipykernel)",
   "language": "python",
   "name": "python3"
  },
  "language_info": {
   "codemirror_mode": {
    "name": "ipython",
    "version": 3
   },
   "file_extension": ".py",
   "mimetype": "text/x-python",
   "name": "python",
   "nbconvert_exporter": "python",
   "pygments_lexer": "ipython3",
   "version": "3.9.9"
  }
 },
 "nbformat": 4,
 "nbformat_minor": 5
}
